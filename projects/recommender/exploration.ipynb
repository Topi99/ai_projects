{
 "cells": [
  {
   "cell_type": "markdown",
   "id": "123bb677",
   "metadata": {},
   "source": [
    "# Data Exploration"
   ]
  },
  {
   "cell_type": "markdown",
   "id": "5524112a",
   "metadata": {},
   "source": [
    "## 1. Import libraries"
   ]
  },
  {
   "cell_type": "code",
   "execution_count": 1,
   "id": "1f00b2da",
   "metadata": {},
   "outputs": [],
   "source": [
    "import pandas as pd\n",
    "import scipy.sparse as sparse\n",
    "import implicit.als as als"
   ]
  },
  {
   "cell_type": "markdown",
   "id": "29e0683d",
   "metadata": {},
   "source": [
    "## 2. Read the data"
   ]
  },
  {
   "cell_type": "code",
   "execution_count": 3,
   "id": "6452d810",
   "metadata": {},
   "outputs": [
    {
     "data": {
      "text/html": [
       "<div>\n",
       "<style scoped>\n",
       "    .dataframe tbody tr th:only-of-type {\n",
       "        vertical-align: middle;\n",
       "    }\n",
       "\n",
       "    .dataframe tbody tr th {\n",
       "        vertical-align: top;\n",
       "    }\n",
       "\n",
       "    .dataframe thead th {\n",
       "        text-align: right;\n",
       "    }\n",
       "</style>\n",
       "<table border=\"1\" class=\"dataframe\">\n",
       "  <thead>\n",
       "    <tr style=\"text-align: right;\">\n",
       "      <th></th>\n",
       "      <th>uuid</th>\n",
       "      <th>skill_name</th>\n",
       "      <th>level</th>\n",
       "    </tr>\n",
       "  </thead>\n",
       "  <tbody>\n",
       "    <tr>\n",
       "      <th>0</th>\n",
       "      <td>06b36793-381f-4a5f-8544-dd6a02bb4513</td>\n",
       "      <td>OpenSSL</td>\n",
       "      <td>INTERMEDIATE</td>\n",
       "    </tr>\n",
       "    <tr>\n",
       "      <th>1</th>\n",
       "      <td>314911bb-28ae-44e0-a70e-a97bc01f0b18</td>\n",
       "      <td>OpenSSL</td>\n",
       "      <td>ADVANCED</td>\n",
       "    </tr>\n",
       "    <tr>\n",
       "      <th>2</th>\n",
       "      <td>c5a1f718-8a18-4b90-8d2a-cf22fb192dae</td>\n",
       "      <td>OpenStack</td>\n",
       "      <td>NOVICE</td>\n",
       "    </tr>\n",
       "    <tr>\n",
       "      <th>3</th>\n",
       "      <td>06b36793-381f-4a5f-8544-dd6a02bb4513</td>\n",
       "      <td>OpenStack</td>\n",
       "      <td>NOVICE</td>\n",
       "    </tr>\n",
       "    <tr>\n",
       "      <th>4</th>\n",
       "      <td>c5a1f718-8a18-4b90-8d2a-cf22fb192dae</td>\n",
       "      <td>ORACLE DB</td>\n",
       "      <td>ADVANCED</td>\n",
       "    </tr>\n",
       "    <tr>\n",
       "      <th>...</th>\n",
       "      <td>...</td>\n",
       "      <td>...</td>\n",
       "      <td>...</td>\n",
       "    </tr>\n",
       "    <tr>\n",
       "      <th>207</th>\n",
       "      <td>e0d0e4bd-af6c-4812-b463-d1f798cd3e74</td>\n",
       "      <td>Jest</td>\n",
       "      <td>INTERMEDIATE</td>\n",
       "    </tr>\n",
       "    <tr>\n",
       "      <th>208</th>\n",
       "      <td>e0d0e4bd-af6c-4812-b463-d1f798cd3e74</td>\n",
       "      <td>React</td>\n",
       "      <td>EXPERT</td>\n",
       "    </tr>\n",
       "    <tr>\n",
       "      <th>209</th>\n",
       "      <td>e0d0e4bd-af6c-4812-b463-d1f798cd3e74</td>\n",
       "      <td>Apollo</td>\n",
       "      <td>INTERMEDIATE</td>\n",
       "    </tr>\n",
       "    <tr>\n",
       "      <th>210</th>\n",
       "      <td>e0d0e4bd-af6c-4812-b463-d1f798cd3e74</td>\n",
       "      <td>JavaScript</td>\n",
       "      <td>EXPERT</td>\n",
       "    </tr>\n",
       "    <tr>\n",
       "      <th>211</th>\n",
       "      <td>e0d0e4bd-af6c-4812-b463-d1f798cd3e74</td>\n",
       "      <td>Node.js</td>\n",
       "      <td>ADVANCED</td>\n",
       "    </tr>\n",
       "  </tbody>\n",
       "</table>\n",
       "<p>212 rows × 3 columns</p>\n",
       "</div>"
      ],
      "text/plain": [
       "                                     uuid  skill_name         level\n",
       "0    06b36793-381f-4a5f-8544-dd6a02bb4513     OpenSSL  INTERMEDIATE\n",
       "1    314911bb-28ae-44e0-a70e-a97bc01f0b18     OpenSSL      ADVANCED\n",
       "2    c5a1f718-8a18-4b90-8d2a-cf22fb192dae   OpenStack        NOVICE\n",
       "3    06b36793-381f-4a5f-8544-dd6a02bb4513   OpenStack        NOVICE\n",
       "4    c5a1f718-8a18-4b90-8d2a-cf22fb192dae   ORACLE DB      ADVANCED\n",
       "..                                    ...         ...           ...\n",
       "207  e0d0e4bd-af6c-4812-b463-d1f798cd3e74        Jest  INTERMEDIATE\n",
       "208  e0d0e4bd-af6c-4812-b463-d1f798cd3e74       React        EXPERT\n",
       "209  e0d0e4bd-af6c-4812-b463-d1f798cd3e74      Apollo  INTERMEDIATE\n",
       "210  e0d0e4bd-af6c-4812-b463-d1f798cd3e74  JavaScript        EXPERT\n",
       "211  e0d0e4bd-af6c-4812-b463-d1f798cd3e74     Node.js      ADVANCED\n",
       "\n",
       "[212 rows x 3 columns]"
      ]
     },
     "execution_count": 3,
     "metadata": {},
     "output_type": "execute_result"
    }
   ],
   "source": [
    "raw_data = pd.read_csv(\"skills_ordered.csv\")\n",
    "raw_data"
   ]
  },
  {
   "cell_type": "code",
   "execution_count": 4,
   "id": "99b456c1",
   "metadata": {},
   "outputs": [
    {
     "data": {
      "text/html": [
       "<div>\n",
       "<style scoped>\n",
       "    .dataframe tbody tr th:only-of-type {\n",
       "        vertical-align: middle;\n",
       "    }\n",
       "\n",
       "    .dataframe tbody tr th {\n",
       "        vertical-align: top;\n",
       "    }\n",
       "\n",
       "    .dataframe thead th {\n",
       "        text-align: right;\n",
       "    }\n",
       "</style>\n",
       "<table border=\"1\" class=\"dataframe\">\n",
       "  <thead>\n",
       "    <tr style=\"text-align: right;\">\n",
       "      <th></th>\n",
       "      <th>uuid</th>\n",
       "      <th>skill_name</th>\n",
       "      <th>level</th>\n",
       "    </tr>\n",
       "  </thead>\n",
       "  <tbody>\n",
       "    <tr>\n",
       "      <th>0</th>\n",
       "      <td>06b36793-381f-4a5f-8544-dd6a02bb4513</td>\n",
       "      <td>OpenSSL</td>\n",
       "      <td>INTERMEDIATE</td>\n",
       "    </tr>\n",
       "    <tr>\n",
       "      <th>1</th>\n",
       "      <td>314911bb-28ae-44e0-a70e-a97bc01f0b18</td>\n",
       "      <td>OpenSSL</td>\n",
       "      <td>ADVANCED</td>\n",
       "    </tr>\n",
       "    <tr>\n",
       "      <th>2</th>\n",
       "      <td>c5a1f718-8a18-4b90-8d2a-cf22fb192dae</td>\n",
       "      <td>OpenStack</td>\n",
       "      <td>NOVICE</td>\n",
       "    </tr>\n",
       "    <tr>\n",
       "      <th>3</th>\n",
       "      <td>06b36793-381f-4a5f-8544-dd6a02bb4513</td>\n",
       "      <td>OpenStack</td>\n",
       "      <td>NOVICE</td>\n",
       "    </tr>\n",
       "    <tr>\n",
       "      <th>4</th>\n",
       "      <td>c5a1f718-8a18-4b90-8d2a-cf22fb192dae</td>\n",
       "      <td>ORACLE DB</td>\n",
       "      <td>ADVANCED</td>\n",
       "    </tr>\n",
       "    <tr>\n",
       "      <th>...</th>\n",
       "      <td>...</td>\n",
       "      <td>...</td>\n",
       "      <td>...</td>\n",
       "    </tr>\n",
       "    <tr>\n",
       "      <th>207</th>\n",
       "      <td>e0d0e4bd-af6c-4812-b463-d1f798cd3e74</td>\n",
       "      <td>Jest</td>\n",
       "      <td>INTERMEDIATE</td>\n",
       "    </tr>\n",
       "    <tr>\n",
       "      <th>208</th>\n",
       "      <td>e0d0e4bd-af6c-4812-b463-d1f798cd3e74</td>\n",
       "      <td>React</td>\n",
       "      <td>EXPERT</td>\n",
       "    </tr>\n",
       "    <tr>\n",
       "      <th>209</th>\n",
       "      <td>e0d0e4bd-af6c-4812-b463-d1f798cd3e74</td>\n",
       "      <td>Apollo</td>\n",
       "      <td>INTERMEDIATE</td>\n",
       "    </tr>\n",
       "    <tr>\n",
       "      <th>210</th>\n",
       "      <td>e0d0e4bd-af6c-4812-b463-d1f798cd3e74</td>\n",
       "      <td>JavaScript</td>\n",
       "      <td>EXPERT</td>\n",
       "    </tr>\n",
       "    <tr>\n",
       "      <th>211</th>\n",
       "      <td>e0d0e4bd-af6c-4812-b463-d1f798cd3e74</td>\n",
       "      <td>Node.js</td>\n",
       "      <td>ADVANCED</td>\n",
       "    </tr>\n",
       "  </tbody>\n",
       "</table>\n",
       "<p>209 rows × 3 columns</p>\n",
       "</div>"
      ],
      "text/plain": [
       "                                     uuid  skill_name         level\n",
       "0    06b36793-381f-4a5f-8544-dd6a02bb4513     OpenSSL  INTERMEDIATE\n",
       "1    314911bb-28ae-44e0-a70e-a97bc01f0b18     OpenSSL      ADVANCED\n",
       "2    c5a1f718-8a18-4b90-8d2a-cf22fb192dae   OpenStack        NOVICE\n",
       "3    06b36793-381f-4a5f-8544-dd6a02bb4513   OpenStack        NOVICE\n",
       "4    c5a1f718-8a18-4b90-8d2a-cf22fb192dae   ORACLE DB      ADVANCED\n",
       "..                                    ...         ...           ...\n",
       "207  e0d0e4bd-af6c-4812-b463-d1f798cd3e74        Jest  INTERMEDIATE\n",
       "208  e0d0e4bd-af6c-4812-b463-d1f798cd3e74       React        EXPERT\n",
       "209  e0d0e4bd-af6c-4812-b463-d1f798cd3e74      Apollo  INTERMEDIATE\n",
       "210  e0d0e4bd-af6c-4812-b463-d1f798cd3e74  JavaScript        EXPERT\n",
       "211  e0d0e4bd-af6c-4812-b463-d1f798cd3e74     Node.js      ADVANCED\n",
       "\n",
       "[209 rows x 3 columns]"
      ]
     },
     "execution_count": 4,
     "metadata": {},
     "output_type": "execute_result"
    }
   ],
   "source": [
    "# drop empty rows just in case\n",
    "data = raw_data.dropna()\n",
    "del raw_data\n",
    "data = data.copy()\n",
    "data"
   ]
  },
  {
   "cell_type": "markdown",
   "id": "e973085f",
   "metadata": {},
   "source": [
    "## 3. Transform the data"
   ]
  },
  {
   "cell_type": "markdown",
   "id": "5bb05f2e",
   "metadata": {},
   "source": [
    "### 3.1.Transform the levels to numbers"
   ]
  },
  {
   "cell_type": "code",
   "execution_count": 5,
   "id": "d959b5d4",
   "metadata": {},
   "outputs": [
    {
     "data": {
      "text/plain": [
       "0      2\n",
       "1      3\n",
       "2      1\n",
       "3      1\n",
       "4      3\n",
       "      ..\n",
       "207    2\n",
       "208    4\n",
       "209    2\n",
       "210    4\n",
       "211    3\n",
       "Name: rating, Length: 209, dtype: int64"
      ]
     },
     "execution_count": 5,
     "metadata": {},
     "output_type": "execute_result"
    }
   ],
   "source": [
    "str2num = { \"NOVICE\": 1, \"INTERMEDIATE\": 2, \"ADVANCED\": 3, \"EXPERT\": 4 }\n",
    "data[\"rating\"] = data[\"level\"].apply(lambda x: str2num.get(x, None))\n",
    "data[\"rating\"]"
   ]
  },
  {
   "cell_type": "markdown",
   "id": "baa73231",
   "metadata": {},
   "source": [
    "### 3.2. Transform user uuids to catergorical values"
   ]
  },
  {
   "cell_type": "code",
   "execution_count": 6,
   "id": "252dea93",
   "metadata": {},
   "outputs": [
    {
     "data": {
      "text/plain": [
       "0      06b36793-381f-4a5f-8544-dd6a02bb4513\n",
       "1      314911bb-28ae-44e0-a70e-a97bc01f0b18\n",
       "2      c5a1f718-8a18-4b90-8d2a-cf22fb192dae\n",
       "3      06b36793-381f-4a5f-8544-dd6a02bb4513\n",
       "4      c5a1f718-8a18-4b90-8d2a-cf22fb192dae\n",
       "                       ...                 \n",
       "207    e0d0e4bd-af6c-4812-b463-d1f798cd3e74\n",
       "208    e0d0e4bd-af6c-4812-b463-d1f798cd3e74\n",
       "209    e0d0e4bd-af6c-4812-b463-d1f798cd3e74\n",
       "210    e0d0e4bd-af6c-4812-b463-d1f798cd3e74\n",
       "211    e0d0e4bd-af6c-4812-b463-d1f798cd3e74\n",
       "Name: uuid, Length: 209, dtype: category\n",
       "Categories (11, object): ['06b36793-381f-4a5f-8544-dd6a02bb4513', '11c6f2e8-0110-4ac0-b2a7-9a889ce612f0', '314911bb-28ae-44e0-a70e-a97bc01f0b18', '51259f56-93cf-4c9d-89f3-cd3e767cb80f', ..., 'c5a1f718-8a18-4b90-8d2a-cf22fb192dae', 'c8d91564-77b4-46df-b7a4-8d25a82ad950', 'cd9974b9-da79-4b19-af78-fefac8849238', 'e0d0e4bd-af6c-4812-b463-d1f798cd3e74']"
      ]
     },
     "execution_count": 6,
     "metadata": {},
     "output_type": "execute_result"
    }
   ],
   "source": [
    "data[\"uuid\"] = data[\"uuid\"].astype(\"category\")\n",
    "data[\"uuid\"]"
   ]
  },
  {
   "cell_type": "markdown",
   "id": "633cd8ab",
   "metadata": {},
   "source": [
    "### 3.3. Transform skill names to categorical values"
   ]
  },
  {
   "cell_type": "code",
   "execution_count": 7,
   "id": "b745e17b",
   "metadata": {},
   "outputs": [
    {
     "data": {
      "text/plain": [
       "0         OpenSSL\n",
       "1         OpenSSL\n",
       "2       OpenStack\n",
       "3       OpenStack\n",
       "4       ORACLE DB\n",
       "          ...    \n",
       "207          Jest\n",
       "208         React\n",
       "209        Apollo\n",
       "210    JavaScript\n",
       "211       Node.js\n",
       "Name: skill_name, Length: 209, dtype: category\n",
       "Categories (124, object): ['Apollo', 'Express', 'JavaScript', 'Jest', ..., 'puppet', 'sofware development', 'spreadsheet', 'yarn']"
      ]
     },
     "execution_count": 7,
     "metadata": {},
     "output_type": "execute_result"
    }
   ],
   "source": [
    "data[\"skill_name\"] = data[\"skill_name\"].astype(\"category\")\n",
    "data[\"skill_name\"]"
   ]
  },
  {
   "cell_type": "markdown",
   "id": "5a6d3953",
   "metadata": {},
   "source": [
    "### 3.4. Normalize user_ids as categorical codes"
   ]
  },
  {
   "cell_type": "code",
   "execution_count": 8,
   "id": "20c05d6c",
   "metadata": {},
   "outputs": [
    {
     "data": {
      "text/plain": [
       "0       0\n",
       "1       2\n",
       "2       7\n",
       "3       0\n",
       "4       7\n",
       "       ..\n",
       "207    10\n",
       "208    10\n",
       "209    10\n",
       "210    10\n",
       "211    10\n",
       "Name: user_id, Length: 209, dtype: int8"
      ]
     },
     "execution_count": 8,
     "metadata": {},
     "output_type": "execute_result"
    }
   ],
   "source": [
    "data[\"user_id\"] = data[\"uuid\"].cat.codes\n",
    "data[\"user_id\"]"
   ]
  },
  {
   "cell_type": "markdown",
   "id": "92337464",
   "metadata": {},
   "source": [
    "### 3.5. Normalize skill_ids as categorical codes"
   ]
  },
  {
   "cell_type": "code",
   "execution_count": 9,
   "id": "64cb5333",
   "metadata": {},
   "outputs": [
    {
     "data": {
      "text/plain": [
       "0       7\n",
       "1       7\n",
       "2       8\n",
       "3       8\n",
       "4       5\n",
       "       ..\n",
       "207     3\n",
       "208    53\n",
       "209     0\n",
       "210     2\n",
       "211     4\n",
       "Name: skill_id, Length: 209, dtype: int8"
      ]
     },
     "execution_count": 9,
     "metadata": {},
     "output_type": "execute_result"
    }
   ],
   "source": [
    "data[\"skill_id\"] = data[\"skill_name\"].cat.codes\n",
    "data[\"skill_id\"]"
   ]
  },
  {
   "cell_type": "markdown",
   "id": "a4b05ac5",
   "metadata": {},
   "source": [
    "## 4. Create sparse matrixes"
   ]
  },
  {
   "cell_type": "markdown",
   "id": "a8b4da6f",
   "metadata": {},
   "source": [
    "### 4.1 Sparse item user"
   ]
  },
  {
   "cell_type": "code",
   "execution_count": 10,
   "id": "95a6afd5",
   "metadata": {},
   "outputs": [
    {
     "data": {
      "text/plain": [
       "<124x11 sparse matrix of type '<class 'numpy.float64'>'\n",
       "\twith 209 stored elements in Compressed Sparse Row format>"
      ]
     },
     "execution_count": 10,
     "metadata": {},
     "output_type": "execute_result"
    }
   ],
   "source": [
    "sparse_item_user = sparse.csr_matrix(\n",
    "    (\n",
    "        data[\"rating\"].astype(float),\n",
    "        (data[\"skill_id\"], data[\"user_id\"]),\n",
    "    )\n",
    ")\n",
    "sparse_item_user"
   ]
  },
  {
   "cell_type": "markdown",
   "id": "c1df2d28",
   "metadata": {},
   "source": [
    "### 4.2. Sparse user item"
   ]
  },
  {
   "cell_type": "code",
   "execution_count": 11,
   "id": "e7d21a7a",
   "metadata": {},
   "outputs": [
    {
     "data": {
      "text/plain": [
       "<11x124 sparse matrix of type '<class 'numpy.float64'>'\n",
       "\twith 209 stored elements in Compressed Sparse Row format>"
      ]
     },
     "execution_count": 11,
     "metadata": {},
     "output_type": "execute_result"
    }
   ],
   "source": [
    "sparse_user_item = sparse.csr_matrix(\n",
    "    (\n",
    "        data[\"rating\"].astype(float),\n",
    "        (data[\"user_id\"], data[\"skill_id\"]),\n",
    "    )\n",
    ")\n",
    "sparse_user_item"
   ]
  },
  {
   "cell_type": "markdown",
   "id": "65f5c394",
   "metadata": {},
   "source": [
    "## 5. Training the model"
   ]
  },
  {
   "cell_type": "code",
   "execution_count": 12,
   "id": "d183e508",
   "metadata": {},
   "outputs": [
    {
     "name": "stderr",
     "output_type": "stream",
     "text": [
      "WARNING:root:OpenBLAS detected. Its highly recommend to set the environment variable 'export OPENBLAS_NUM_THREADS=1' to disable its internal multithreading\n"
     ]
    },
    {
     "data": {
      "application/vnd.jupyter.widget-view+json": {
       "model_id": "05aea759fc2a48abadb8da2ea2c3a81e",
       "version_major": 2,
       "version_minor": 0
      },
      "text/plain": [
       "  0%|          | 0/20 [00:00<?, ?it/s]"
      ]
     },
     "metadata": {},
     "output_type": "display_data"
    }
   ],
   "source": [
    "recommender = als.AlternatingLeastSquares(factors=20, regularization=0.1, iterations=20)\n",
    "alpha = 40\n",
    "data_confidence = (sparse_item_user * alpha).astype('double')\n",
    "recommender.fit(data_confidence)"
   ]
  },
  {
   "cell_type": "code",
   "execution_count": 13,
   "id": "0814874b",
   "metadata": {},
   "outputs": [
    {
     "name": "stdout",
     "output_type": "stream",
     "text": [
      "self._user_item.shape = (11, 124)\n",
      "self._users_count = 11\n",
      "self._items_count = 124\n",
      "Mean Squared Error in iteration #0\n",
      "\t764.1285\n",
      "Mean Squared Error in iteration #50\n",
      "\t390.7465\n",
      "Mean Squared Error in iteration #100\n",
      "\t382.0865\n",
      "Mean Squared Error in iteration #150\n",
      "\t380.9833\n",
      "trained_model = array([[0.05580918, 0.08342113, 0.11132165, ..., 0.03433215, 0.01950479,\n",
      "        0.01728021],\n",
      "       [0.0900105 , 0.13453207, 0.17953058, ..., 0.06825197, 0.03035246,\n",
      "        0.03431464],\n",
      "       [0.08617674, 0.1288482 , 0.17193076, ..., 0.05447641, 0.02825636,\n",
      "        0.02740081],\n",
      "       ...,\n",
      "       [0.07597496, 0.11333129, 0.15130998, ..., 0.05914259, 0.03608556,\n",
      "        0.02981746],\n",
      "       [0.27957803, 0.41759229, 0.55735657, ..., 0.21451469, 0.10698467,\n",
      "        0.10794956],\n",
      "       [0.13013556, 0.19460046, 0.25965984, ..., 0.09186438, 0.04015087,\n",
      "        0.04616733]])\n",
      "self._user_item = array([[0., 0., 0., ..., 0., 0., 0.],\n",
      "       [0., 0., 0., ..., 2., 0., 1.],\n",
      "       [0., 0., 0., ..., 0., 0., 0.],\n",
      "       ...,\n",
      "       [0., 0., 0., ..., 0., 1., 0.],\n",
      "       [0., 0., 0., ..., 0., 0., 0.],\n",
      "       [2., 3., 4., ..., 0., 0., 0.]])\n"
     ]
    }
   ],
   "source": [
    "from projects.recommender.gradient_descent import GradientDescentMF\n",
    "\n",
    "\n",
    "recommender = GradientDescentMF(\n",
    "    user_item=sparse_user_item, verbose=True, features=3, iterations=200\n",
    ")\n",
    "recommender.train()"
   ]
  },
  {
   "cell_type": "markdown",
   "id": "32503d5d",
   "metadata": {},
   "source": [
    "## 6. Making recommendations"
   ]
  },
  {
   "cell_type": "code",
   "execution_count": 15,
   "id": "5a9f4c95",
   "metadata": {},
   "outputs": [
    {
     "ename": "TypeError",
     "evalue": "recommend() got an unexpected keyword argument 'N'",
     "output_type": "error",
     "traceback": [
      "\u001B[0;31m---------------------------------------------------------------------------\u001B[0m",
      "\u001B[0;31mTypeError\u001B[0m                                 Traceback (most recent call last)",
      "\u001B[0;32m/var/folders/zv/lftm4fh13tj0t8m01v36txtw0000gp/T/ipykernel_88800/2230484712.py\u001B[0m in \u001B[0;36m<module>\u001B[0;34m\u001B[0m\n\u001B[1;32m      8\u001B[0m \u001B[0mUSER_UUID\u001B[0m \u001B[0;34m=\u001B[0m \u001B[0;34m\"e0d0e4bd-af6c-4812-b463-d1f798cd3e74\"\u001B[0m\u001B[0;34m\u001B[0m\u001B[0;34m\u001B[0m\u001B[0m\n\u001B[1;32m      9\u001B[0m \u001B[0muser_id\u001B[0m \u001B[0;34m=\u001B[0m \u001B[0muser2code\u001B[0m\u001B[0;34m[\u001B[0m\u001B[0mUSER_UUID\u001B[0m\u001B[0;34m]\u001B[0m\u001B[0;34m\u001B[0m\u001B[0;34m\u001B[0m\u001B[0m\n\u001B[0;32m---> 10\u001B[0;31m \u001B[0mrecommendations\u001B[0m \u001B[0;34m=\u001B[0m \u001B[0mrecommender\u001B[0m\u001B[0;34m.\u001B[0m\u001B[0mrecommend\u001B[0m\u001B[0;34m(\u001B[0m\u001B[0muser_id\u001B[0m\u001B[0;34m,\u001B[0m \u001B[0msparse_user_item\u001B[0m\u001B[0;34m,\u001B[0m \u001B[0mN\u001B[0m\u001B[0;34m=\u001B[0m\u001B[0;36m4\u001B[0m\u001B[0;34m)\u001B[0m\u001B[0;34m\u001B[0m\u001B[0;34m\u001B[0m\u001B[0m\n\u001B[0m\u001B[1;32m     11\u001B[0m \u001B[0;34m[\u001B[0m\u001B[0mcode2skill\u001B[0m\u001B[0;34m[\u001B[0m\u001B[0midx\u001B[0m\u001B[0;34m]\u001B[0m \u001B[0;32mfor\u001B[0m \u001B[0midx\u001B[0m\u001B[0;34m,\u001B[0m \u001B[0m_\u001B[0m \u001B[0;32min\u001B[0m \u001B[0mrecommendations\u001B[0m\u001B[0;34m]\u001B[0m\u001B[0;34m\u001B[0m\u001B[0;34m\u001B[0m\u001B[0m\n",
      "\u001B[0;31mTypeError\u001B[0m: recommend() got an unexpected keyword argument 'N'"
     ]
    }
   ],
   "source": [
    "users_asc = data.uuid.cat.categories\n",
    "skills_asc = data.skill_name.cat.categories\n",
    "user2code = {user: code for code, user in enumerate(users_asc)}\n",
    "skill2code = {skill: code for code, skill in enumerate(skills_asc)}\n",
    "code2user = {code: user for code, user in enumerate(users_asc)}\n",
    "code2skill = {code: skill for code, skill in enumerate(skills_asc)}\n",
    "\n",
    "USER_UUID = \"e0d0e4bd-af6c-4812-b463-d1f798cd3e74\"\n",
    "user_id = user2code[USER_UUID]\n",
    "recommendations = recommender_als.recommend(user_id, sparse_user_item, N=4)\n",
    "[code2skill[idx] for idx, _ in recommendations]"
   ]
  },
  {
   "cell_type": "code",
   "execution_count": 14,
   "id": "4c5de3e5",
   "metadata": {},
   "outputs": [
    {
     "ename": "NameError",
     "evalue": "name 'user_id' is not defined",
     "output_type": "error",
     "traceback": [
      "\u001B[0;31m---------------------------------------------------------------------------\u001B[0m",
      "\u001B[0;31mNameError\u001B[0m                                 Traceback (most recent call last)",
      "\u001B[0;32m/var/folders/zv/lftm4fh13tj0t8m01v36txtw0000gp/T/ipykernel_88800/4218841121.py\u001B[0m in \u001B[0;36m<module>\u001B[0;34m\u001B[0m\n\u001B[0;32m----> 1\u001B[0;31m \u001B[0mrecommendations\u001B[0m \u001B[0;34m=\u001B[0m \u001B[0mrecommender\u001B[0m\u001B[0;34m.\u001B[0m\u001B[0mrecommend\u001B[0m\u001B[0;34m(\u001B[0m\u001B[0muser_id\u001B[0m\u001B[0;34m,\u001B[0m \u001B[0msparse_item_user\u001B[0m\u001B[0;34m,\u001B[0m \u001B[0mn\u001B[0m\u001B[0;34m=\u001B[0m\u001B[0;36m4\u001B[0m\u001B[0;34m)\u001B[0m\u001B[0;34m\u001B[0m\u001B[0;34m\u001B[0m\u001B[0m\n\u001B[0m\u001B[1;32m      2\u001B[0m print(\n\u001B[1;32m      3\u001B[0m     \u001B[0;34m\"Recommendations: \"\u001B[0m\u001B[0;34m,\u001B[0m\u001B[0;34m\u001B[0m\u001B[0;34m\u001B[0m\u001B[0m\n\u001B[1;32m      4\u001B[0m     \u001B[0;34m\", \"\u001B[0m\u001B[0;34m.\u001B[0m\u001B[0mjoin\u001B[0m\u001B[0;34m(\u001B[0m\u001B[0;34m[\u001B[0m\u001B[0mcode2skill\u001B[0m\u001B[0;34m[\u001B[0m\u001B[0midx\u001B[0m\u001B[0;34m]\u001B[0m \u001B[0;32mfor\u001B[0m \u001B[0midx\u001B[0m\u001B[0;34m,\u001B[0m \u001B[0m_\u001B[0m \u001B[0;32min\u001B[0m \u001B[0mrecommendations\u001B[0m\u001B[0;34m]\u001B[0m\u001B[0;34m)\u001B[0m\u001B[0;34m\u001B[0m\u001B[0;34m\u001B[0m\u001B[0m\n\u001B[1;32m      5\u001B[0m )\n",
      "\u001B[0;31mNameError\u001B[0m: name 'user_id' is not defined"
     ]
    }
   ],
   "source": [
    "recommendations = recommender.recommend(user_id, sparse_item_user, n=4)\n",
    "print(\n",
    "    \"Recommendations: \",\n",
    "    \", \".join([code2skill[idx] for idx, _ in recommendations])\n",
    ")\n"
   ]
  },
  {
   "cell_type": "code",
   "execution_count": null,
   "id": "62cec587",
   "metadata": {},
   "outputs": [],
   "source": []
  }
 ],
 "metadata": {
  "kernelspec": {
   "display_name": "Python 3 (ipykernel)",
   "language": "python",
   "name": "python3"
  },
  "language_info": {
   "codemirror_mode": {
    "name": "ipython",
    "version": 3
   },
   "file_extension": ".py",
   "mimetype": "text/x-python",
   "name": "python",
   "nbconvert_exporter": "python",
   "pygments_lexer": "ipython3",
   "version": "3.8.1"
  }
 },
 "nbformat": 4,
 "nbformat_minor": 5
}