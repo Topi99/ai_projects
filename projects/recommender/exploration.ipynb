{
 "cells": [
  {
   "cell_type": "markdown",
   "id": "123bb677",
   "metadata": {},
   "source": [
    "# Data Exploration"
   ]
  },
  {
   "cell_type": "markdown",
   "id": "5524112a",
   "metadata": {},
   "source": [
    "## 1. Import libraries"
   ]
  },
  {
   "cell_type": "code",
   "execution_count": 1,
   "id": "1f00b2da",
   "metadata": {},
   "outputs": [],
   "source": [
    "import pandas as pd\n",
    "import scipy.sparse as sparse\n",
    "import implicit.als as als"
   ]
  },
  {
   "cell_type": "markdown",
   "id": "29e0683d",
   "metadata": {},
   "source": [
    "## 2. Read the data"
   ]
  },
  {
   "cell_type": "code",
   "execution_count": 2,
   "id": "6452d810",
   "metadata": {},
   "outputs": [
    {
     "data": {
      "text/html": [
       "<div>\n",
       "<style scoped>\n",
       "    .dataframe tbody tr th:only-of-type {\n",
       "        vertical-align: middle;\n",
       "    }\n",
       "\n",
       "    .dataframe tbody tr th {\n",
       "        vertical-align: top;\n",
       "    }\n",
       "\n",
       "    .dataframe thead th {\n",
       "        text-align: right;\n",
       "    }\n",
       "</style>\n",
       "<table border=\"1\" class=\"dataframe\">\n",
       "  <thead>\n",
       "    <tr style=\"text-align: right;\">\n",
       "      <th></th>\n",
       "      <th>uuid</th>\n",
       "      <th>skill_name</th>\n",
       "      <th>level</th>\n",
       "    </tr>\n",
       "  </thead>\n",
       "  <tbody>\n",
       "    <tr>\n",
       "      <th>0</th>\n",
       "      <td>c0ccd057-5aed-4f2f-83a7-fedd88798a99</td>\n",
       "      <td>Groovy</td>\n",
       "      <td>ADVANCED</td>\n",
       "    </tr>\n",
       "    <tr>\n",
       "      <th>1</th>\n",
       "      <td>c0ccd057-5aed-4f2f-83a7-fedd88798a99</td>\n",
       "      <td>Bash</td>\n",
       "      <td>ADVANCED</td>\n",
       "    </tr>\n",
       "    <tr>\n",
       "      <th>2</th>\n",
       "      <td>c0ccd057-5aed-4f2f-83a7-fedd88798a99</td>\n",
       "      <td>JSON</td>\n",
       "      <td>ADVANCED</td>\n",
       "    </tr>\n",
       "    <tr>\n",
       "      <th>3</th>\n",
       "      <td>c0ccd057-5aed-4f2f-83a7-fedd88798a99</td>\n",
       "      <td>Leadership</td>\n",
       "      <td>INTERMEDIATE</td>\n",
       "    </tr>\n",
       "    <tr>\n",
       "      <th>4</th>\n",
       "      <td>164e77f7-03cc-4e00-856a-102286c21f80</td>\n",
       "      <td>JSON</td>\n",
       "      <td>ADVANCED</td>\n",
       "    </tr>\n",
       "    <tr>\n",
       "      <th>...</th>\n",
       "      <td>...</td>\n",
       "      <td>...</td>\n",
       "      <td>...</td>\n",
       "    </tr>\n",
       "    <tr>\n",
       "      <th>1001</th>\n",
       "      <td>e0d0e4bd-af6c-4812-b463-d1f798cd3e74</td>\n",
       "      <td>Jest</td>\n",
       "      <td>INTERMEDIATE</td>\n",
       "    </tr>\n",
       "    <tr>\n",
       "      <th>1002</th>\n",
       "      <td>e0d0e4bd-af6c-4812-b463-d1f798cd3e74</td>\n",
       "      <td>Redux</td>\n",
       "      <td>INTERMEDIATE</td>\n",
       "    </tr>\n",
       "    <tr>\n",
       "      <th>1003</th>\n",
       "      <td>e0d0e4bd-af6c-4812-b463-d1f798cd3e74</td>\n",
       "      <td>Apollo</td>\n",
       "      <td>INTERMEDIATE</td>\n",
       "    </tr>\n",
       "    <tr>\n",
       "      <th>1004</th>\n",
       "      <td>e0d0e4bd-af6c-4812-b463-d1f798cd3e74</td>\n",
       "      <td>JavaScript</td>\n",
       "      <td>ADVANCED</td>\n",
       "    </tr>\n",
       "    <tr>\n",
       "      <th>1005</th>\n",
       "      <td>e0d0e4bd-af6c-4812-b463-d1f798cd3e74</td>\n",
       "      <td>Node.js</td>\n",
       "      <td>ADVANCED</td>\n",
       "    </tr>\n",
       "  </tbody>\n",
       "</table>\n",
       "<p>1006 rows × 3 columns</p>\n",
       "</div>"
      ],
      "text/plain": [
       "                                      uuid  skill_name         level\n",
       "0     c0ccd057-5aed-4f2f-83a7-fedd88798a99      Groovy      ADVANCED\n",
       "1     c0ccd057-5aed-4f2f-83a7-fedd88798a99        Bash      ADVANCED\n",
       "2     c0ccd057-5aed-4f2f-83a7-fedd88798a99        JSON      ADVANCED\n",
       "3     c0ccd057-5aed-4f2f-83a7-fedd88798a99  Leadership  INTERMEDIATE\n",
       "4     164e77f7-03cc-4e00-856a-102286c21f80        JSON      ADVANCED\n",
       "...                                    ...         ...           ...\n",
       "1001  e0d0e4bd-af6c-4812-b463-d1f798cd3e74        Jest  INTERMEDIATE\n",
       "1002  e0d0e4bd-af6c-4812-b463-d1f798cd3e74       Redux  INTERMEDIATE\n",
       "1003  e0d0e4bd-af6c-4812-b463-d1f798cd3e74      Apollo  INTERMEDIATE\n",
       "1004  e0d0e4bd-af6c-4812-b463-d1f798cd3e74  JavaScript      ADVANCED\n",
       "1005  e0d0e4bd-af6c-4812-b463-d1f798cd3e74     Node.js      ADVANCED\n",
       "\n",
       "[1006 rows x 3 columns]"
      ]
     },
     "execution_count": 2,
     "metadata": {},
     "output_type": "execute_result"
    }
   ],
   "source": [
    "raw_data = pd.read_csv(\"skills.csv\")\n",
    "raw_data"
   ]
  },
  {
   "cell_type": "code",
   "execution_count": 3,
   "id": "99b456c1",
   "metadata": {},
   "outputs": [
    {
     "data": {
      "text/html": [
       "<div>\n",
       "<style scoped>\n",
       "    .dataframe tbody tr th:only-of-type {\n",
       "        vertical-align: middle;\n",
       "    }\n",
       "\n",
       "    .dataframe tbody tr th {\n",
       "        vertical-align: top;\n",
       "    }\n",
       "\n",
       "    .dataframe thead th {\n",
       "        text-align: right;\n",
       "    }\n",
       "</style>\n",
       "<table border=\"1\" class=\"dataframe\">\n",
       "  <thead>\n",
       "    <tr style=\"text-align: right;\">\n",
       "      <th></th>\n",
       "      <th>uuid</th>\n",
       "      <th>skill_name</th>\n",
       "      <th>level</th>\n",
       "    </tr>\n",
       "  </thead>\n",
       "  <tbody>\n",
       "    <tr>\n",
       "      <th>0</th>\n",
       "      <td>c0ccd057-5aed-4f2f-83a7-fedd88798a99</td>\n",
       "      <td>Groovy</td>\n",
       "      <td>ADVANCED</td>\n",
       "    </tr>\n",
       "    <tr>\n",
       "      <th>1</th>\n",
       "      <td>c0ccd057-5aed-4f2f-83a7-fedd88798a99</td>\n",
       "      <td>Bash</td>\n",
       "      <td>ADVANCED</td>\n",
       "    </tr>\n",
       "    <tr>\n",
       "      <th>2</th>\n",
       "      <td>c0ccd057-5aed-4f2f-83a7-fedd88798a99</td>\n",
       "      <td>JSON</td>\n",
       "      <td>ADVANCED</td>\n",
       "    </tr>\n",
       "    <tr>\n",
       "      <th>3</th>\n",
       "      <td>c0ccd057-5aed-4f2f-83a7-fedd88798a99</td>\n",
       "      <td>Leadership</td>\n",
       "      <td>INTERMEDIATE</td>\n",
       "    </tr>\n",
       "    <tr>\n",
       "      <th>4</th>\n",
       "      <td>164e77f7-03cc-4e00-856a-102286c21f80</td>\n",
       "      <td>JSON</td>\n",
       "      <td>ADVANCED</td>\n",
       "    </tr>\n",
       "    <tr>\n",
       "      <th>...</th>\n",
       "      <td>...</td>\n",
       "      <td>...</td>\n",
       "      <td>...</td>\n",
       "    </tr>\n",
       "    <tr>\n",
       "      <th>1001</th>\n",
       "      <td>e0d0e4bd-af6c-4812-b463-d1f798cd3e74</td>\n",
       "      <td>Jest</td>\n",
       "      <td>INTERMEDIATE</td>\n",
       "    </tr>\n",
       "    <tr>\n",
       "      <th>1002</th>\n",
       "      <td>e0d0e4bd-af6c-4812-b463-d1f798cd3e74</td>\n",
       "      <td>Redux</td>\n",
       "      <td>INTERMEDIATE</td>\n",
       "    </tr>\n",
       "    <tr>\n",
       "      <th>1003</th>\n",
       "      <td>e0d0e4bd-af6c-4812-b463-d1f798cd3e74</td>\n",
       "      <td>Apollo</td>\n",
       "      <td>INTERMEDIATE</td>\n",
       "    </tr>\n",
       "    <tr>\n",
       "      <th>1004</th>\n",
       "      <td>e0d0e4bd-af6c-4812-b463-d1f798cd3e74</td>\n",
       "      <td>JavaScript</td>\n",
       "      <td>ADVANCED</td>\n",
       "    </tr>\n",
       "    <tr>\n",
       "      <th>1005</th>\n",
       "      <td>e0d0e4bd-af6c-4812-b463-d1f798cd3e74</td>\n",
       "      <td>Node.js</td>\n",
       "      <td>ADVANCED</td>\n",
       "    </tr>\n",
       "  </tbody>\n",
       "</table>\n",
       "<p>1006 rows × 3 columns</p>\n",
       "</div>"
      ],
      "text/plain": [
       "                                      uuid  skill_name         level\n",
       "0     c0ccd057-5aed-4f2f-83a7-fedd88798a99      Groovy      ADVANCED\n",
       "1     c0ccd057-5aed-4f2f-83a7-fedd88798a99        Bash      ADVANCED\n",
       "2     c0ccd057-5aed-4f2f-83a7-fedd88798a99        JSON      ADVANCED\n",
       "3     c0ccd057-5aed-4f2f-83a7-fedd88798a99  Leadership  INTERMEDIATE\n",
       "4     164e77f7-03cc-4e00-856a-102286c21f80        JSON      ADVANCED\n",
       "...                                    ...         ...           ...\n",
       "1001  e0d0e4bd-af6c-4812-b463-d1f798cd3e74        Jest  INTERMEDIATE\n",
       "1002  e0d0e4bd-af6c-4812-b463-d1f798cd3e74       Redux  INTERMEDIATE\n",
       "1003  e0d0e4bd-af6c-4812-b463-d1f798cd3e74      Apollo  INTERMEDIATE\n",
       "1004  e0d0e4bd-af6c-4812-b463-d1f798cd3e74  JavaScript      ADVANCED\n",
       "1005  e0d0e4bd-af6c-4812-b463-d1f798cd3e74     Node.js      ADVANCED\n",
       "\n",
       "[1006 rows x 3 columns]"
      ]
     },
     "execution_count": 3,
     "metadata": {},
     "output_type": "execute_result"
    }
   ],
   "source": [
    "# drop empty rows just in case\n",
    "data = raw_data.dropna()\n",
    "del raw_data\n",
    "data = data.copy()\n",
    "data"
   ]
  },
  {
   "cell_type": "markdown",
   "id": "e973085f",
   "metadata": {},
   "source": [
    "## 3. Transform the data"
   ]
  },
  {
   "cell_type": "markdown",
   "id": "5bb05f2e",
   "metadata": {},
   "source": [
    "### 3.1.Transform the levels to numbers"
   ]
  },
  {
   "cell_type": "code",
   "execution_count": 4,
   "id": "d959b5d4",
   "metadata": {},
   "outputs": [
    {
     "data": {
      "text/plain": [
       "0       3\n",
       "1       3\n",
       "2       3\n",
       "3       2\n",
       "4       3\n",
       "       ..\n",
       "1001    2\n",
       "1002    2\n",
       "1003    2\n",
       "1004    3\n",
       "1005    3\n",
       "Name: rating, Length: 1006, dtype: int64"
      ]
     },
     "execution_count": 4,
     "metadata": {},
     "output_type": "execute_result"
    }
   ],
   "source": [
    "str2num = { \"NOVICE\": 1, \"INTERMEDIATE\": 2, \"ADVANCED\": 3, \"EXPERT\": 4 }\n",
    "data[\"rating\"] = data[\"level\"].apply(lambda x: str2num.get(x, None))\n",
    "data[\"rating\"]"
   ]
  },
  {
   "cell_type": "markdown",
   "id": "baa73231",
   "metadata": {},
   "source": [
    "### 3.2. Transform user uuids to catergorical values"
   ]
  },
  {
   "cell_type": "code",
   "execution_count": 5,
   "id": "252dea93",
   "metadata": {},
   "outputs": [
    {
     "data": {
      "text/plain": [
       "0       c0ccd057-5aed-4f2f-83a7-fedd88798a99\n",
       "1       c0ccd057-5aed-4f2f-83a7-fedd88798a99\n",
       "2       c0ccd057-5aed-4f2f-83a7-fedd88798a99\n",
       "3       c0ccd057-5aed-4f2f-83a7-fedd88798a99\n",
       "4       164e77f7-03cc-4e00-856a-102286c21f80\n",
       "                        ...                 \n",
       "1001    e0d0e4bd-af6c-4812-b463-d1f798cd3e74\n",
       "1002    e0d0e4bd-af6c-4812-b463-d1f798cd3e74\n",
       "1003    e0d0e4bd-af6c-4812-b463-d1f798cd3e74\n",
       "1004    e0d0e4bd-af6c-4812-b463-d1f798cd3e74\n",
       "1005    e0d0e4bd-af6c-4812-b463-d1f798cd3e74\n",
       "Name: uuid, Length: 1006, dtype: category\n",
       "Categories (199, object): ['00398a29-9972-4fbf-b319-d602c2906867', '0120e441-91c9-4e38-8065-f37db773ec9d', '0197e4e7-5feb-4bf8-a375-9dd63acfe72f', '01df1992-e62a-4c58-936a-50099ca9ac52', ..., 'fb11b5f8-2892-42f7-9e70-07b3e832516e', 'fb3004a1-cc5e-4ec8-ac3e-4d30d38018ae', 'fe233c78-e3d4-494c-bc1a-c1d94bd3439c', 'ff1ecb31-87d7-4456-a448-7bc92a0f2ec4']"
      ]
     },
     "execution_count": 5,
     "metadata": {},
     "output_type": "execute_result"
    }
   ],
   "source": [
    "data[\"uuid\"] = data[\"uuid\"].astype(\"category\")\n",
    "data[\"uuid\"]"
   ]
  },
  {
   "cell_type": "markdown",
   "id": "633cd8ab",
   "metadata": {},
   "source": [
    "### 3.3. Transform skill names to categorical values"
   ]
  },
  {
   "cell_type": "code",
   "execution_count": 6,
   "id": "b745e17b",
   "metadata": {},
   "outputs": [
    {
     "data": {
      "text/plain": [
       "0           Groovy\n",
       "1             Bash\n",
       "2             JSON\n",
       "3       Leadership\n",
       "4             JSON\n",
       "           ...    \n",
       "1001          Jest\n",
       "1002         Redux\n",
       "1003        Apollo\n",
       "1004    JavaScript\n",
       "1005       Node.js\n",
       "Name: skill_name, Length: 1006, dtype: category\n",
       "Categories (304, object): ['.NET', '.NET Core', 'A/B Testing', 'ASP', ..., 'jQuery', 'nginx', 'oauth2', 'puppet']"
      ]
     },
     "execution_count": 6,
     "metadata": {},
     "output_type": "execute_result"
    }
   ],
   "source": [
    "data[\"skill_name\"] = data[\"skill_name\"].astype(\"category\")\n",
    "data[\"skill_name\"]"
   ]
  },
  {
   "cell_type": "markdown",
   "id": "5a6d3953",
   "metadata": {},
   "source": [
    "### 3.4. Normalize user_ids as categorical codes"
   ]
  },
  {
   "cell_type": "code",
   "execution_count": 7,
   "id": "20c05d6c",
   "metadata": {},
   "outputs": [
    {
     "data": {
      "text/plain": [
       "0       157\n",
       "1       157\n",
       "2       157\n",
       "3       157\n",
       "4        20\n",
       "       ... \n",
       "1001    180\n",
       "1002    180\n",
       "1003    180\n",
       "1004    180\n",
       "1005    180\n",
       "Name: user_id, Length: 1006, dtype: int16"
      ]
     },
     "execution_count": 7,
     "metadata": {},
     "output_type": "execute_result"
    }
   ],
   "source": [
    "data[\"user_id\"] = data[\"uuid\"].cat.codes\n",
    "data[\"user_id\"]"
   ]
  },
  {
   "cell_type": "markdown",
   "id": "92337464",
   "metadata": {},
   "source": [
    "### 3.5. Normalize skill_ids as categorical codes"
   ]
  },
  {
   "cell_type": "code",
   "execution_count": 8,
   "id": "64cb5333",
   "metadata": {},
   "outputs": [
    {
     "data": {
      "text/plain": [
       "0       112\n",
       "1        50\n",
       "2       129\n",
       "3       146\n",
       "4       129\n",
       "       ... \n",
       "1001    136\n",
       "1002    208\n",
       "1003     38\n",
       "1004    133\n",
       "1005    169\n",
       "Name: skill_id, Length: 1006, dtype: int16"
      ]
     },
     "execution_count": 8,
     "metadata": {},
     "output_type": "execute_result"
    }
   ],
   "source": [
    "data[\"skill_id\"] = data[\"skill_name\"].cat.codes\n",
    "data[\"skill_id\"]"
   ]
  },
  {
   "cell_type": "markdown",
   "id": "a4b05ac5",
   "metadata": {},
   "source": [
    "## 4. Create sparse matrixes"
   ]
  },
  {
   "cell_type": "markdown",
   "id": "a8b4da6f",
   "metadata": {},
   "source": [
    "### 4.1 Sparse item user"
   ]
  },
  {
   "cell_type": "code",
   "execution_count": 10,
   "id": "95a6afd5",
   "metadata": {},
   "outputs": [
    {
     "data": {
      "text/plain": [
       "<304x199 sparse matrix of type '<class 'numpy.float64'>'\n",
       "\twith 1006 stored elements in Compressed Sparse Row format>"
      ]
     },
     "execution_count": 10,
     "metadata": {},
     "output_type": "execute_result"
    }
   ],
   "source": [
    "sparse_item_user = sparse.csr_matrix(\n",
    "    (\n",
    "        data[\"rating\"].astype(float),\n",
    "        (data[\"skill_id\"], data[\"user_id\"]),\n",
    "    )\n",
    ")\n",
    "sparse_item_user"
   ]
  },
  {
   "cell_type": "markdown",
   "id": "c1df2d28",
   "metadata": {},
   "source": [
    "### 4.2. Sparse user item"
   ]
  },
  {
   "cell_type": "code",
   "execution_count": 11,
   "id": "e7d21a7a",
   "metadata": {},
   "outputs": [
    {
     "data": {
      "text/plain": [
       "<199x304 sparse matrix of type '<class 'numpy.float64'>'\n",
       "\twith 1006 stored elements in Compressed Sparse Row format>"
      ]
     },
     "execution_count": 11,
     "metadata": {},
     "output_type": "execute_result"
    }
   ],
   "source": [
    "sparse_user_item = sparse.csr_matrix(\n",
    "    (\n",
    "        data[\"rating\"].astype(float),\n",
    "        (data[\"user_id\"], data[\"skill_id\"]),\n",
    "    )\n",
    ")\n",
    "sparse_user_item"
   ]
  },
  {
   "cell_type": "markdown",
   "id": "65f5c394",
   "metadata": {},
   "source": [
    "## 5. Training the model"
   ]
  },
  {
   "cell_type": "code",
   "execution_count": 12,
   "id": "d183e508",
   "metadata": {},
   "outputs": [
    {
     "name": "stderr",
     "output_type": "stream",
     "text": [
      "WARNING:root:OpenBLAS detected. Its highly recommend to set the environment variable 'export OPENBLAS_NUM_THREADS=1' to disable its internal multithreading\n"
     ]
    },
    {
     "data": {
      "application/vnd.jupyter.widget-view+json": {
       "model_id": "05aea759fc2a48abadb8da2ea2c3a81e",
       "version_major": 2,
       "version_minor": 0
      },
      "text/plain": [
       "  0%|          | 0/20 [00:00<?, ?it/s]"
      ]
     },
     "metadata": {},
     "output_type": "display_data"
    }
   ],
   "source": [
    "recommender = als.AlternatingLeastSquares(factors=20, regularization=0.1, iterations=20)\n",
    "alpha = 40\n",
    "data_confidence = (sparse_item_user * alpha).astype('double')\n",
    "recommender.fit(data_confidence)"
   ]
  },
  {
   "cell_type": "markdown",
   "id": "32503d5d",
   "metadata": {},
   "source": [
    "## 6. Making recommendations"
   ]
  },
  {
   "cell_type": "code",
   "execution_count": 19,
   "id": "5a9f4c95",
   "metadata": {},
   "outputs": [
    {
     "data": {
      "text/plain": [
       "['Serverless', 'Firebase', 'GraphQL', 'Angular']"
      ]
     },
     "execution_count": 19,
     "metadata": {},
     "output_type": "execute_result"
    }
   ],
   "source": [
    "users_asc = data.uuid.cat.categories\n",
    "skills_asc = data.skill_name.cat.categories\n",
    "user2code = {user: code for code, user in enumerate(users_asc)}\n",
    "skill2code = {skill: code for code, skill in enumerate(skills_asc)}\n",
    "code2user = {code: user for code, user in enumerate(users_asc)}\n",
    "code2skill = {code: skill for code, skill in enumerate(skills_asc)}\n",
    "\n",
    "USER_UUID = \"e0d0e4bd-af6c-4812-b463-d1f798cd3e74\"\n",
    "user_id = user2code[USER_UUID]\n",
    "recommendations = recommender.recommend(user_id, sparse_user_item, N=4)\n",
    "[code2skill[idx] for idx, _ in recommendations]"
   ]
  }
 ],
 "metadata": {
  "kernelspec": {
   "display_name": "Python 3 (ipykernel)",
   "language": "python",
   "name": "python3"
  },
  "language_info": {
   "codemirror_mode": {
    "name": "ipython",
    "version": 3
   },
   "file_extension": ".py",
   "mimetype": "text/x-python",
   "name": "python",
   "nbconvert_exporter": "python",
   "pygments_lexer": "ipython3",
   "version": "3.8.1"
  }
 },
 "nbformat": 4,
 "nbformat_minor": 5
}