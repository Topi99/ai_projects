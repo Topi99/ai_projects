{
 "cells": [
  {
   "cell_type": "markdown",
   "id": "123bb677",
   "metadata": {},
   "source": [
    "# Data Exploration"
   ]
  },
  {
   "cell_type": "markdown",
   "id": "5524112a",
   "metadata": {},
   "source": [
    "## 1. Import libraries"
   ]
  },
  {
   "cell_type": "code",
   "execution_count": 2,
   "id": "1f00b2da",
   "metadata": {},
   "outputs": [],
   "source": [
    "import pandas as pd\n",
    "import scipy.sparse as sparse"
   ]
  },
  {
   "cell_type": "markdown",
   "id": "29e0683d",
   "metadata": {},
   "source": [
    "## 2. Read the data"
   ]
  },
  {
   "cell_type": "code",
   "execution_count": 3,
   "id": "6452d810",
   "metadata": {},
   "outputs": [
    {
     "data": {
      "text/html": [
       "<div>\n",
       "<style scoped>\n",
       "    .dataframe tbody tr th:only-of-type {\n",
       "        vertical-align: middle;\n",
       "    }\n",
       "\n",
       "    .dataframe tbody tr th {\n",
       "        vertical-align: top;\n",
       "    }\n",
       "\n",
       "    .dataframe thead th {\n",
       "        text-align: right;\n",
       "    }\n",
       "</style>\n",
       "<table border=\"1\" class=\"dataframe\">\n",
       "  <thead>\n",
       "    <tr style=\"text-align: right;\">\n",
       "      <th></th>\n",
       "      <th>uuid</th>\n",
       "      <th>skill_name</th>\n",
       "      <th>level</th>\n",
       "    </tr>\n",
       "  </thead>\n",
       "  <tbody>\n",
       "    <tr>\n",
       "      <th>0</th>\n",
       "      <td>c0ccd057-5aed-4f2f-83a7-fedd88798a99</td>\n",
       "      <td>Groovy</td>\n",
       "      <td>ADVANCED</td>\n",
       "    </tr>\n",
       "    <tr>\n",
       "      <th>1</th>\n",
       "      <td>c0ccd057-5aed-4f2f-83a7-fedd88798a99</td>\n",
       "      <td>Bash</td>\n",
       "      <td>ADVANCED</td>\n",
       "    </tr>\n",
       "    <tr>\n",
       "      <th>2</th>\n",
       "      <td>c0ccd057-5aed-4f2f-83a7-fedd88798a99</td>\n",
       "      <td>JSON</td>\n",
       "      <td>ADVANCED</td>\n",
       "    </tr>\n",
       "    <tr>\n",
       "      <th>3</th>\n",
       "      <td>c0ccd057-5aed-4f2f-83a7-fedd88798a99</td>\n",
       "      <td>Leadership</td>\n",
       "      <td>INTERMEDIATE</td>\n",
       "    </tr>\n",
       "    <tr>\n",
       "      <th>4</th>\n",
       "      <td>164e77f7-03cc-4e00-856a-102286c21f80</td>\n",
       "      <td>JSON</td>\n",
       "      <td>ADVANCED</td>\n",
       "    </tr>\n",
       "    <tr>\n",
       "      <th>...</th>\n",
       "      <td>...</td>\n",
       "      <td>...</td>\n",
       "      <td>...</td>\n",
       "    </tr>\n",
       "    <tr>\n",
       "      <th>995</th>\n",
       "      <td>285dc44d-cbfa-4faa-9087-f6963659fdf4</td>\n",
       "      <td>Serverless</td>\n",
       "      <td>NOVICE</td>\n",
       "    </tr>\n",
       "    <tr>\n",
       "      <th>996</th>\n",
       "      <td>aa8f222e-b28d-4713-97c2-9cd21cacc02e</td>\n",
       "      <td>Communication</td>\n",
       "      <td>NOVICE</td>\n",
       "    </tr>\n",
       "    <tr>\n",
       "      <th>997</th>\n",
       "      <td>10ac50c3-b7f4-4d23-8b10-edd530cf2479</td>\n",
       "      <td>MongoDB</td>\n",
       "      <td>NOVICE</td>\n",
       "    </tr>\n",
       "    <tr>\n",
       "      <th>998</th>\n",
       "      <td>b52dcda7-518e-4f71-891d-4ae089489164</td>\n",
       "      <td>User Research</td>\n",
       "      <td>NOVICE</td>\n",
       "    </tr>\n",
       "    <tr>\n",
       "      <th>999</th>\n",
       "      <td>83f5a976-ba1b-4b3a-8862-0c03e5d8eb6c</td>\n",
       "      <td>AWS</td>\n",
       "      <td>NOVICE</td>\n",
       "    </tr>\n",
       "  </tbody>\n",
       "</table>\n",
       "<p>1000 rows × 3 columns</p>\n",
       "</div>"
      ],
      "text/plain": [
       "                                     uuid     skill_name         level\n",
       "0    c0ccd057-5aed-4f2f-83a7-fedd88798a99         Groovy      ADVANCED\n",
       "1    c0ccd057-5aed-4f2f-83a7-fedd88798a99           Bash      ADVANCED\n",
       "2    c0ccd057-5aed-4f2f-83a7-fedd88798a99           JSON      ADVANCED\n",
       "3    c0ccd057-5aed-4f2f-83a7-fedd88798a99     Leadership  INTERMEDIATE\n",
       "4    164e77f7-03cc-4e00-856a-102286c21f80           JSON      ADVANCED\n",
       "..                                    ...            ...           ...\n",
       "995  285dc44d-cbfa-4faa-9087-f6963659fdf4     Serverless        NOVICE\n",
       "996  aa8f222e-b28d-4713-97c2-9cd21cacc02e  Communication        NOVICE\n",
       "997  10ac50c3-b7f4-4d23-8b10-edd530cf2479        MongoDB        NOVICE\n",
       "998  b52dcda7-518e-4f71-891d-4ae089489164  User Research        NOVICE\n",
       "999  83f5a976-ba1b-4b3a-8862-0c03e5d8eb6c            AWS        NOVICE\n",
       "\n",
       "[1000 rows x 3 columns]"
      ]
     },
     "execution_count": 3,
     "metadata": {},
     "output_type": "execute_result"
    }
   ],
   "source": [
    "raw_data = pd.read_csv(\"skills.csv\")\n",
    "raw_data"
   ]
  },
  {
   "cell_type": "code",
   "execution_count": 4,
   "id": "99b456c1",
   "metadata": {},
   "outputs": [
    {
     "data": {
      "text/html": [
       "<div>\n",
       "<style scoped>\n",
       "    .dataframe tbody tr th:only-of-type {\n",
       "        vertical-align: middle;\n",
       "    }\n",
       "\n",
       "    .dataframe tbody tr th {\n",
       "        vertical-align: top;\n",
       "    }\n",
       "\n",
       "    .dataframe thead th {\n",
       "        text-align: right;\n",
       "    }\n",
       "</style>\n",
       "<table border=\"1\" class=\"dataframe\">\n",
       "  <thead>\n",
       "    <tr style=\"text-align: right;\">\n",
       "      <th></th>\n",
       "      <th>uuid</th>\n",
       "      <th>skill_name</th>\n",
       "      <th>level</th>\n",
       "    </tr>\n",
       "  </thead>\n",
       "  <tbody>\n",
       "    <tr>\n",
       "      <th>0</th>\n",
       "      <td>c0ccd057-5aed-4f2f-83a7-fedd88798a99</td>\n",
       "      <td>Groovy</td>\n",
       "      <td>ADVANCED</td>\n",
       "    </tr>\n",
       "    <tr>\n",
       "      <th>1</th>\n",
       "      <td>c0ccd057-5aed-4f2f-83a7-fedd88798a99</td>\n",
       "      <td>Bash</td>\n",
       "      <td>ADVANCED</td>\n",
       "    </tr>\n",
       "    <tr>\n",
       "      <th>2</th>\n",
       "      <td>c0ccd057-5aed-4f2f-83a7-fedd88798a99</td>\n",
       "      <td>JSON</td>\n",
       "      <td>ADVANCED</td>\n",
       "    </tr>\n",
       "    <tr>\n",
       "      <th>3</th>\n",
       "      <td>c0ccd057-5aed-4f2f-83a7-fedd88798a99</td>\n",
       "      <td>Leadership</td>\n",
       "      <td>INTERMEDIATE</td>\n",
       "    </tr>\n",
       "    <tr>\n",
       "      <th>4</th>\n",
       "      <td>164e77f7-03cc-4e00-856a-102286c21f80</td>\n",
       "      <td>JSON</td>\n",
       "      <td>ADVANCED</td>\n",
       "    </tr>\n",
       "    <tr>\n",
       "      <th>...</th>\n",
       "      <td>...</td>\n",
       "      <td>...</td>\n",
       "      <td>...</td>\n",
       "    </tr>\n",
       "    <tr>\n",
       "      <th>995</th>\n",
       "      <td>285dc44d-cbfa-4faa-9087-f6963659fdf4</td>\n",
       "      <td>Serverless</td>\n",
       "      <td>NOVICE</td>\n",
       "    </tr>\n",
       "    <tr>\n",
       "      <th>996</th>\n",
       "      <td>aa8f222e-b28d-4713-97c2-9cd21cacc02e</td>\n",
       "      <td>Communication</td>\n",
       "      <td>NOVICE</td>\n",
       "    </tr>\n",
       "    <tr>\n",
       "      <th>997</th>\n",
       "      <td>10ac50c3-b7f4-4d23-8b10-edd530cf2479</td>\n",
       "      <td>MongoDB</td>\n",
       "      <td>NOVICE</td>\n",
       "    </tr>\n",
       "    <tr>\n",
       "      <th>998</th>\n",
       "      <td>b52dcda7-518e-4f71-891d-4ae089489164</td>\n",
       "      <td>User Research</td>\n",
       "      <td>NOVICE</td>\n",
       "    </tr>\n",
       "    <tr>\n",
       "      <th>999</th>\n",
       "      <td>83f5a976-ba1b-4b3a-8862-0c03e5d8eb6c</td>\n",
       "      <td>AWS</td>\n",
       "      <td>NOVICE</td>\n",
       "    </tr>\n",
       "  </tbody>\n",
       "</table>\n",
       "<p>1000 rows × 3 columns</p>\n",
       "</div>"
      ],
      "text/plain": [
       "                                     uuid     skill_name         level\n",
       "0    c0ccd057-5aed-4f2f-83a7-fedd88798a99         Groovy      ADVANCED\n",
       "1    c0ccd057-5aed-4f2f-83a7-fedd88798a99           Bash      ADVANCED\n",
       "2    c0ccd057-5aed-4f2f-83a7-fedd88798a99           JSON      ADVANCED\n",
       "3    c0ccd057-5aed-4f2f-83a7-fedd88798a99     Leadership  INTERMEDIATE\n",
       "4    164e77f7-03cc-4e00-856a-102286c21f80           JSON      ADVANCED\n",
       "..                                    ...            ...           ...\n",
       "995  285dc44d-cbfa-4faa-9087-f6963659fdf4     Serverless        NOVICE\n",
       "996  aa8f222e-b28d-4713-97c2-9cd21cacc02e  Communication        NOVICE\n",
       "997  10ac50c3-b7f4-4d23-8b10-edd530cf2479        MongoDB        NOVICE\n",
       "998  b52dcda7-518e-4f71-891d-4ae089489164  User Research        NOVICE\n",
       "999  83f5a976-ba1b-4b3a-8862-0c03e5d8eb6c            AWS        NOVICE\n",
       "\n",
       "[1000 rows x 3 columns]"
      ]
     },
     "execution_count": 4,
     "metadata": {},
     "output_type": "execute_result"
    }
   ],
   "source": [
    "# drop empty rows just in case\n",
    "data = raw_data.dropna()\n",
    "del raw_data\n",
    "data = data.copy()\n",
    "data"
   ]
  },
  {
   "cell_type": "markdown",
   "id": "e973085f",
   "metadata": {},
   "source": [
    "## 3. Transform the data"
   ]
  },
  {
   "cell_type": "markdown",
   "id": "5bb05f2e",
   "metadata": {},
   "source": [
    "### 3.1.Transform the levels to numbers"
   ]
  },
  {
   "cell_type": "code",
   "execution_count": 5,
   "id": "d959b5d4",
   "metadata": {},
   "outputs": [
    {
     "data": {
      "text/plain": [
       "0      3\n",
       "1      3\n",
       "2      3\n",
       "3      2\n",
       "4      3\n",
       "      ..\n",
       "995    1\n",
       "996    1\n",
       "997    1\n",
       "998    1\n",
       "999    1\n",
       "Name: rating, Length: 1000, dtype: int64"
      ]
     },
     "execution_count": 5,
     "metadata": {},
     "output_type": "execute_result"
    }
   ],
   "source": [
    "str2num = { \"NOVICE\": 1, \"INTERMEDIATE\": 2, \"ADVANCED\": 3, \"EXPERT\": 4 }\n",
    "data[\"rating\"] = data[\"level\"].apply(lambda x: str2num.get(x, None))\n",
    "data[\"rating\"]"
   ]
  },
  {
   "cell_type": "markdown",
   "id": "baa73231",
   "metadata": {},
   "source": [
    "### 3.2. Transform user uuids to catergorical values"
   ]
  },
  {
   "cell_type": "code",
   "execution_count": 6,
   "id": "252dea93",
   "metadata": {},
   "outputs": [
    {
     "data": {
      "text/plain": [
       "0      c0ccd057-5aed-4f2f-83a7-fedd88798a99\n",
       "1      c0ccd057-5aed-4f2f-83a7-fedd88798a99\n",
       "2      c0ccd057-5aed-4f2f-83a7-fedd88798a99\n",
       "3      c0ccd057-5aed-4f2f-83a7-fedd88798a99\n",
       "4      164e77f7-03cc-4e00-856a-102286c21f80\n",
       "                       ...                 \n",
       "995    285dc44d-cbfa-4faa-9087-f6963659fdf4\n",
       "996    aa8f222e-b28d-4713-97c2-9cd21cacc02e\n",
       "997    10ac50c3-b7f4-4d23-8b10-edd530cf2479\n",
       "998    b52dcda7-518e-4f71-891d-4ae089489164\n",
       "999    83f5a976-ba1b-4b3a-8862-0c03e5d8eb6c\n",
       "Name: uuid, Length: 1000, dtype: category\n",
       "Categories (198, object): ['00398a29-9972-4fbf-b319-d602c2906867', '0120e441-91c9-4e38-8065-f37db773ec9d', '0197e4e7-5feb-4bf8-a375-9dd63acfe72f', '01df1992-e62a-4c58-936a-50099ca9ac52', ..., 'fb11b5f8-2892-42f7-9e70-07b3e832516e', 'fb3004a1-cc5e-4ec8-ac3e-4d30d38018ae', 'fe233c78-e3d4-494c-bc1a-c1d94bd3439c', 'ff1ecb31-87d7-4456-a448-7bc92a0f2ec4']"
      ]
     },
     "execution_count": 6,
     "metadata": {},
     "output_type": "execute_result"
    }
   ],
   "source": [
    "data[\"uuid\"] = data[\"uuid\"].astype(\"category\")\n",
    "data[\"uuid\"]"
   ]
  },
  {
   "cell_type": "markdown",
   "id": "633cd8ab",
   "metadata": {},
   "source": [
    "### 3.3. Transform skill names to categorical values"
   ]
  },
  {
   "cell_type": "code",
   "execution_count": 7,
   "id": "b745e17b",
   "metadata": {},
   "outputs": [
    {
     "data": {
      "text/plain": [
       "0             Groovy\n",
       "1               Bash\n",
       "2               JSON\n",
       "3         Leadership\n",
       "4               JSON\n",
       "           ...      \n",
       "995       Serverless\n",
       "996    Communication\n",
       "997          MongoDB\n",
       "998    User Research\n",
       "999              AWS\n",
       "Name: skill_name, Length: 1000, dtype: category\n",
       "Categories (304, object): ['.NET', '.NET Core', 'A/B Testing', 'ASP', ..., 'jQuery', 'nginx', 'oauth2', 'puppet']"
      ]
     },
     "execution_count": 7,
     "metadata": {},
     "output_type": "execute_result"
    }
   ],
   "source": [
    "data[\"skill_name\"] = data[\"skill_name\"].astype(\"category\")\n",
    "data[\"skill_name\"]"
   ]
  },
  {
   "cell_type": "markdown",
   "id": "5a6d3953",
   "metadata": {},
   "source": [
    "### 3.4. Normalize user_ids as categorical codes"
   ]
  },
  {
   "cell_type": "code",
   "execution_count": 8,
   "id": "20c05d6c",
   "metadata": {},
   "outputs": [
    {
     "data": {
      "text/plain": [
       "0      157\n",
       "1      157\n",
       "2      157\n",
       "3      157\n",
       "4       20\n",
       "      ... \n",
       "995     34\n",
       "996    134\n",
       "997     15\n",
       "998    147\n",
       "999    104\n",
       "Name: user_id, Length: 1000, dtype: int16"
      ]
     },
     "execution_count": 8,
     "metadata": {},
     "output_type": "execute_result"
    }
   ],
   "source": [
    "data[\"user_id\"] = data[\"uuid\"].cat.codes\n",
    "data[\"user_id\"]"
   ]
  },
  {
   "cell_type": "markdown",
   "id": "92337464",
   "metadata": {},
   "source": [
    "### 3.5. Normalize skill_ids as categorical codes"
   ]
  },
  {
   "cell_type": "code",
   "execution_count": 9,
   "id": "64cb5333",
   "metadata": {},
   "outputs": [
    {
     "data": {
      "text/plain": [
       "0      112\n",
       "1       50\n",
       "2      129\n",
       "3      146\n",
       "4      129\n",
       "      ... \n",
       "995    233\n",
       "996     65\n",
       "997    156\n",
       "998    272\n",
       "999      4\n",
       "Name: skill_id, Length: 1000, dtype: int16"
      ]
     },
     "execution_count": 9,
     "metadata": {},
     "output_type": "execute_result"
    }
   ],
   "source": [
    "data[\"skill_id\"] = data[\"skill_name\"].cat.codes\n",
    "data[\"skill_id\"]"
   ]
  },
  {
   "cell_type": "markdown",
   "id": "a4b05ac5",
   "metadata": {},
   "source": [
    "## 4. Create sparse matrixes"
   ]
  },
  {
   "cell_type": "markdown",
   "id": "a8b4da6f",
   "metadata": {},
   "source": [
    "### 4.1 Sparse item user"
   ]
  },
  {
   "cell_type": "code",
   "execution_count": 15,
   "id": "95a6afd5",
   "metadata": {},
   "outputs": [
    {
     "data": {
      "text/plain": [
       "<304x198 sparse matrix of type '<class 'numpy.float64'>'\n",
       "\twith 1000 stored elements in Compressed Sparse Row format>"
      ]
     },
     "execution_count": 15,
     "metadata": {},
     "output_type": "execute_result"
    }
   ],
   "source": [
    "sparse_item_user = sparse.csr_matrix(\n",
    "    (\n",
    "        data[\"rating\"].astype(float),\n",
    "        (data[\"skill_id\"], data[\"user_id\"]),\n",
    "    )\n",
    ")\n",
    "sparse_item_user"
   ]
  },
  {
   "cell_type": "markdown",
   "id": "c1df2d28",
   "metadata": {},
   "source": [
    "### 4.2. Sparse user item"
   ]
  },
  {
   "cell_type": "code",
   "execution_count": 17,
   "id": "e7d21a7a",
   "metadata": {},
   "outputs": [
    {
     "data": {
      "text/plain": [
       "<198x304 sparse matrix of type '<class 'numpy.float64'>'\n",
       "\twith 1000 stored elements in Compressed Sparse Row format>"
      ]
     },
     "execution_count": 17,
     "metadata": {},
     "output_type": "execute_result"
    }
   ],
   "source": [
    "sparse_user_item = sparse.csr_matrix(\n",
    "    (\n",
    "        data[\"rating\"].astype(float),\n",
    "        (data[\"user_id\"], data[\"skill_id\"]),\n",
    "    )\n",
    ")\n",
    "sparse_user_item"
   ]
  }
 ],
 "metadata": {
  "kernelspec": {
   "display_name": "Python 3 (ipykernel)",
   "language": "python",
   "name": "python3"
  },
  "language_info": {
   "codemirror_mode": {
    "name": "ipython",
    "version": 3
   },
   "file_extension": ".py",
   "mimetype": "text/x-python",
   "name": "python",
   "nbconvert_exporter": "python",
   "pygments_lexer": "ipython3",
   "version": "3.8.1"
  }
 },
 "nbformat": 4,
 "nbformat_minor": 5
}
